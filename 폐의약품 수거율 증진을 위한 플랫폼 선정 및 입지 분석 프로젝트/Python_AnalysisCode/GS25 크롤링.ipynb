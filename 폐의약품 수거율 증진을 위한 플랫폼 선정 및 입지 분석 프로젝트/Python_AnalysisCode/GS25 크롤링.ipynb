{
 "cells": [
  {
   "cell_type": "markdown",
   "id": "1ba78901",
   "metadata": {},
   "source": [
    "## 모듈"
   ]
  },
  {
   "cell_type": "code",
   "execution_count": 1,
   "id": "62a65027",
   "metadata": {},
   "outputs": [],
   "source": [
    "from selenium import webdriver\n",
    "from selenium.webdriver.common.by import By\n",
    "from selenium.webdriver.support import expected_conditions as EC\n",
    "from selenium.webdriver.support.ui import WebDriverWait\n",
    "from bs4 import BeautifulSoup as BS\n",
    "import time\n",
    "import selenium\n",
    "import requests\n",
    "import re\n",
    "import pandas as pd\n",
    "import json"
   ]
  },
  {
   "cell_type": "markdown",
   "id": "7b4ec58b",
   "metadata": {},
   "source": [
    "## 크롤링"
   ]
  },
  {
   "cell_type": "code",
   "execution_count": 6,
   "id": "fa9402c3",
   "metadata": {},
   "outputs": [],
   "source": [
    "# CSRF Token\n",
    "# requests.Session() -> 토큰값 고정\n",
    "payload = {\"pageNum\" : \"1\",\n",
    "\"pageSize\" : \"5\",\n",
    "\"searchShopName\" : \"\",\n",
    "\"searchSido\" : \"11\",\n",
    "\"searchGugun\" : \"\",\n",
    "\"searchDong\" : \"\",\n",
    "\"searchType\" : \"\",\n",
    "\"searchTypeService\" : \"0\",\n",
    "\"searchTypeToto\" : \"0\",\n",
    "\"searchTypeCafe25\" : \"0\",\n",
    "\"searchTypeInstant\" : \"0\",\n",
    "\"searchTypeDrug\" : \"0\",\n",
    "\"searchTypeSelf25\" : \"0\",\n",
    "\"searchTypePost\" : \"0\",\n",
    "\"searchTypeAtm\" : \"0\",\n",
    "\"searchTypeWithdrawal\" : \"0\",\n",
    "\"searchTypeTaxrefund\" : \"0\",\n",
    "\"searchTypeSmartAtm\" : \"0\",\n",
    "\"searchTypeSelfCookingUtensils\" : \"0\",\n",
    "\"searchTypeDeliverySerivce\" : \"0\",\n",
    "}\n",
    "post_url = \"http://gs25.gsretail.com/gscvs/ko/store-services/locationList?CSRFToken={}\"\n",
    "url = 'http://gs25.gsretail.com/gscvs/ko/store-services/locations'\n",
    "total = []\n",
    "with requests.Session() as s:\n",
    "    r = s.get(url)\n",
    "    bs = BS(r.text)\n",
    "    csrf = bs.find(\"form\", id=\"CSRFForm\").find(\"input\")[\"value\"]\n",
    "    master = {x.text : x['value'] for x in bs.find(\"select\", id=\"stb1\").findAll(\"option\")[1:]}\n",
    "    for code in master.values():\n",
    "        payload['pageSize'] = 5000\n",
    "        payload['searchSido'] = code\n",
    "        r2 = s.post(post_url.format(csrf), data=payload)\n",
    "        total.append(pd.DataFrame(json.loads(r2.json())[\"results\"]))\n"
   ]
  },
  {
   "cell_type": "code",
   "execution_count": 7,
   "id": "79c92228",
   "metadata": {},
   "outputs": [],
   "source": [
    "gs = pd.concat(total)"
   ]
  },
  {
   "cell_type": "markdown",
   "id": "b53cab71",
   "metadata": {},
   "source": [
    "## 데이터 확인"
   ]
  },
  {
   "cell_type": "code",
   "execution_count": 8,
   "id": "cc8f5e3c",
   "metadata": {},
   "outputs": [
    {
     "data": {
      "text/html": [
       "<div>\n",
       "<style scoped>\n",
       "    .dataframe tbody tr th:only-of-type {\n",
       "        vertical-align: middle;\n",
       "    }\n",
       "\n",
       "    .dataframe tbody tr th {\n",
       "        vertical-align: top;\n",
       "    }\n",
       "\n",
       "    .dataframe thead th {\n",
       "        text-align: right;\n",
       "    }\n",
       "</style>\n",
       "<table border=\"1\" class=\"dataframe\">\n",
       "  <thead>\n",
       "    <tr style=\"text-align: right;\">\n",
       "      <th></th>\n",
       "      <th>offeringService</th>\n",
       "      <th>shopCode</th>\n",
       "      <th>longs</th>\n",
       "      <th>address</th>\n",
       "      <th>shopName</th>\n",
       "      <th>lat</th>\n",
       "    </tr>\n",
       "  </thead>\n",
       "  <tbody>\n",
       "    <tr>\n",
       "      <th>0</th>\n",
       "      <td>[post]</td>\n",
       "      <td>VQ037</td>\n",
       "      <td>37.52831065</td>\n",
       "      <td>서울 양천구 목동서로159-1 (목1동 917-1, CBS방송국1층)</td>\n",
       "      <td>GS25CBS점</td>\n",
       "      <td>126.87486792</td>\n",
       "    </tr>\n",
       "    <tr>\n",
       "      <th>1</th>\n",
       "      <td>[cafe25, post]</td>\n",
       "      <td>VO395</td>\n",
       "      <td>37.5783899</td>\n",
       "      <td>서울 마포구 매봉산로75, 1층 107호 (상암동 1610)</td>\n",
       "      <td>GS25DDMC점</td>\n",
       "      <td>126.89294205</td>\n",
       "    </tr>\n",
       "    <tr>\n",
       "      <th>2</th>\n",
       "      <td>[cafe25, drug, post]</td>\n",
       "      <td>VER76</td>\n",
       "      <td>37.57410234</td>\n",
       "      <td>서울 서대문구 가재울미래로2, 203동 101호 (남가좌동 385, 2단지)</td>\n",
       "      <td>GS25DMC가재울점</td>\n",
       "      <td>126.91639401</td>\n",
       "    </tr>\n",
       "    <tr>\n",
       "      <th>3</th>\n",
       "      <td>[cafe25, instant, post]</td>\n",
       "      <td>V9A48</td>\n",
       "      <td>37.50235508</td>\n",
       "      <td>서울 강남구 테헤란로223, 1층 101호 (역삼동 677-25, 큰길타워빌딩)</td>\n",
       "      <td>GS25DXLAB점</td>\n",
       "      <td>127.04069826</td>\n",
       "    </tr>\n",
       "    <tr>\n",
       "      <th>4</th>\n",
       "      <td>[drug, withdrawal]</td>\n",
       "      <td>VI989</td>\n",
       "      <td>37.55513349</td>\n",
       "      <td>서울 강동구 고덕로39 (암사3동 441-14)</td>\n",
       "      <td>GS25G고덕점</td>\n",
       "      <td>127.12956973</td>\n",
       "    </tr>\n",
       "  </tbody>\n",
       "</table>\n",
       "</div>"
      ],
      "text/plain": [
       "           offeringService shopCode        longs  \\\n",
       "0                   [post]    VQ037  37.52831065   \n",
       "1           [cafe25, post]    VO395   37.5783899   \n",
       "2     [cafe25, drug, post]    VER76  37.57410234   \n",
       "3  [cafe25, instant, post]    V9A48  37.50235508   \n",
       "4       [drug, withdrawal]    VI989  37.55513349   \n",
       "\n",
       "                                        address     shopName           lat  \n",
       "0        서울 양천구 목동서로159-1 (목1동 917-1, CBS방송국1층)     GS25CBS점  126.87486792  \n",
       "1             서울 마포구 매봉산로75, 1층 107호 (상암동 1610)    GS25DDMC점  126.89294205  \n",
       "2    서울 서대문구 가재울미래로2, 203동 101호 (남가좌동 385, 2단지)  GS25DMC가재울점  126.91639401  \n",
       "3  서울 강남구 테헤란로223, 1층 101호 (역삼동 677-25, 큰길타워빌딩)   GS25DXLAB점  127.04069826  \n",
       "4                    서울 강동구 고덕로39 (암사3동 441-14)     GS25G고덕점  127.12956973  "
      ]
     },
     "execution_count": 8,
     "metadata": {},
     "output_type": "execute_result"
    }
   ],
   "source": [
    "gs.head()"
   ]
  },
  {
   "cell_type": "markdown",
   "id": "e7fc132c",
   "metadata": {},
   "source": [
    "## 데이터 추출"
   ]
  },
  {
   "cell_type": "code",
   "execution_count": 9,
   "id": "9c70a05e",
   "metadata": {},
   "outputs": [],
   "source": [
    "gs.to_excel('./data/gs25.xlsx')"
   ]
  }
 ],
 "metadata": {
  "kernelspec": {
   "display_name": "Python 3 (ipykernel)",
   "language": "python",
   "name": "python3"
  },
  "language_info": {
   "codemirror_mode": {
    "name": "ipython",
    "version": 3
   },
   "file_extension": ".py",
   "mimetype": "text/x-python",
   "name": "python",
   "nbconvert_exporter": "python",
   "pygments_lexer": "ipython3",
   "version": "3.8.16"
  }
 },
 "nbformat": 4,
 "nbformat_minor": 5
}
