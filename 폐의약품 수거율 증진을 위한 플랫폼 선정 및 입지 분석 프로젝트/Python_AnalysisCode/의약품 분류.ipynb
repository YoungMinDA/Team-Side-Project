{
 "cells": [
  {
   "cell_type": "markdown",
   "id": "2ea4e53e",
   "metadata": {},
   "source": [
    "#####  앞글자 EX)diclofenac ~~~ 가 같은 경우는 모두 해당 성분이 포함되어 있는 약물\n",
    "#### 출저 : https://nedrug.mfds.go.kr/searchDrug\n",
    "\n",
    "- encapsulated <-> 알약/비알약\n",
    "- diclofenac diethylammonium\n",
    "- diclofenac epolamine (as diclofenac)\n",
    "- diclofenac potassium\n",
    "- diclofenac sodium\n",
    "- diclofenac-β-dimethyl-aminoethanol\t\n",
    "- diphenhydramine hydrochloride\t\n",
    "- diphenhydramine HCl\n",
    "- diphenhydramine citrate\n",
    "- diphenhydramine salicylate\n",
    "- ibuprofen piconol\n",
    "- ibuprofen lysine\n",
    "- ibuprofen sodium dihydrate\n",
    "- benzalkonium chloride solution\n",
    "\n",
    "##### 앞글자 3개만 추출하여 '일반명' 데이터 분리"
   ]
  },
  {
   "cell_type": "markdown",
   "id": "6e4c093f",
   "metadata": {},
   "source": [
    "## 모듈"
   ]
  },
  {
   "cell_type": "code",
   "execution_count": 21,
   "id": "7c7dd5e5",
   "metadata": {},
   "outputs": [],
   "source": [
    "import pandas as pd\n",
    "import numpy as np\n",
    "import matplotlib.pyplot as plt\n",
    "import seaborn as sns\n",
    "import warnings\n",
    "warnings.filterwarnings(action='ignore') \n",
    "pd.set_option('display.max_rows', None)"
   ]
  },
  {
   "cell_type": "markdown",
   "id": "c6786fb2",
   "metadata": {},
   "source": [
    "## 데이터 업로드"
   ]
  },
  {
   "cell_type": "code",
   "execution_count": 2,
   "id": "4e0f5923",
   "metadata": {},
   "outputs": [],
   "source": [
    "df = pd.read_csv('건강보험심사평가원_의약품주성분_20221001.csv', encoding='cp949')"
   ]
  },
  {
   "cell_type": "code",
   "execution_count": 3,
   "id": "2d77f8cd",
   "metadata": {},
   "outputs": [
    {
     "data": {
      "text/html": [
       "<div>\n",
       "<style scoped>\n",
       "    .dataframe tbody tr th:only-of-type {\n",
       "        vertical-align: middle;\n",
       "    }\n",
       "\n",
       "    .dataframe tbody tr th {\n",
       "        vertical-align: top;\n",
       "    }\n",
       "\n",
       "    .dataframe thead th {\n",
       "        text-align: right;\n",
       "    }\n",
       "</style>\n",
       "<table border=\"1\" class=\"dataframe\">\n",
       "  <thead>\n",
       "    <tr style=\"text-align: right;\">\n",
       "      <th></th>\n",
       "      <th>일반명코드</th>\n",
       "      <th>제형구분코드</th>\n",
       "      <th>제형</th>\n",
       "      <th>일반명</th>\n",
       "      <th>분류번호</th>\n",
       "      <th>투여</th>\n",
       "      <th>함량</th>\n",
       "      <th>단위</th>\n",
       "    </tr>\n",
       "  </thead>\n",
       "  <tbody>\n",
       "    <tr>\n",
       "      <th>0</th>\n",
       "      <td>100101AGN</td>\n",
       "      <td>GN</td>\n",
       "      <td>과립제,세립</td>\n",
       "      <td>상황균사체엑스</td>\n",
       "      <td>421</td>\n",
       "      <td>내복</td>\n",
       "      <td>1.1</td>\n",
       "      <td>g</td>\n",
       "    </tr>\n",
       "    <tr>\n",
       "      <th>1</th>\n",
       "      <td>100101ALQ</td>\n",
       "      <td>LQ</td>\n",
       "      <td>액제</td>\n",
       "      <td>상황균사체엑스</td>\n",
       "      <td>421</td>\n",
       "      <td>내복</td>\n",
       "      <td>1.1</td>\n",
       "      <td>g</td>\n",
       "    </tr>\n",
       "    <tr>\n",
       "      <th>2</th>\n",
       "      <td>100101APD</td>\n",
       "      <td>PD</td>\n",
       "      <td>산제</td>\n",
       "      <td>phellinus linteus mycelliun ext.</td>\n",
       "      <td>421</td>\n",
       "      <td>내복</td>\n",
       "      <td>1.1</td>\n",
       "      <td>g</td>\n",
       "    </tr>\n",
       "    <tr>\n",
       "      <th>3</th>\n",
       "      <td>100102ACH</td>\n",
       "      <td>CH</td>\n",
       "      <td>경질캡슐제</td>\n",
       "      <td>phellinus linteus mycelliun ext.</td>\n",
       "      <td>421</td>\n",
       "      <td>내복</td>\n",
       "      <td>0.55</td>\n",
       "      <td>g</td>\n",
       "    </tr>\n",
       "    <tr>\n",
       "      <th>4</th>\n",
       "      <td>100102ALQ</td>\n",
       "      <td>LQ</td>\n",
       "      <td>액제</td>\n",
       "      <td>phellinus linteus mycelliun ext.</td>\n",
       "      <td>421</td>\n",
       "      <td>내복</td>\n",
       "      <td>1.1</td>\n",
       "      <td>g(55mg/mL)</td>\n",
       "    </tr>\n",
       "  </tbody>\n",
       "</table>\n",
       "</div>"
      ],
      "text/plain": [
       "       일반명코드 제형구분코드       제형                               일반명  분류번호   투여  \\\n",
       "0  100101AGN     GN  과립제,세립                            상황균사체엑스   421  내복    \n",
       "1  100101ALQ     LQ      액제                            상황균사체엑스   421  내복    \n",
       "2  100101APD     PD      산제   phellinus linteus mycelliun ext.   421  내복    \n",
       "3  100102ACH     CH   경질캡슐제   phellinus linteus mycelliun ext.   421  내복    \n",
       "4  100102ALQ     LQ      액제   phellinus linteus mycelliun ext.   421  내복    \n",
       "\n",
       "     함량          단위  \n",
       "0   1.1           g  \n",
       "1   1.1           g  \n",
       "2   1.1           g  \n",
       "3  0.55           g  \n",
       "4   1.1  g(55mg/mL)  "
      ]
     },
     "execution_count": 3,
     "metadata": {},
     "output_type": "execute_result"
    }
   ],
   "source": [
    "df.head()"
   ]
  },
  {
   "cell_type": "code",
   "execution_count": 4,
   "id": "3e91f911",
   "metadata": {},
   "outputs": [
    {
     "data": {
      "text/plain": [
       "(55854, 8)"
      ]
     },
     "execution_count": 4,
     "metadata": {},
     "output_type": "execute_result"
    }
   ],
   "source": [
    "df.shape"
   ]
  },
  {
   "cell_type": "code",
   "execution_count": 5,
   "id": "b6065746",
   "metadata": {},
   "outputs": [
    {
     "data": {
      "text/plain": [
       "일반명코드       0\n",
       "제형구분코드    298\n",
       "제형        298\n",
       "일반명         0\n",
       "분류번호        0\n",
       "투여          0\n",
       "함량          0\n",
       "단위        478\n",
       "dtype: int64"
      ]
     },
     "execution_count": 5,
     "metadata": {},
     "output_type": "execute_result"
    }
   ],
   "source": [
    "# 결측치 확인\n",
    "df.isnull().sum()"
   ]
  },
  {
   "cell_type": "markdown",
   "id": "2ab41fb5",
   "metadata": {},
   "source": [
    "#### 의약품 추출"
   ]
  },
  {
   "cell_type": "code",
   "execution_count": 6,
   "id": "8b3d448b",
   "metadata": {},
   "outputs": [],
   "source": [
    "def mdrug_data(df, keywords):\n",
    "    \n",
    "    # 데이터 추출  \n",
    "    df = df[df['일반명'].str.contains('|'.join(keywords), case=False)]\n",
    "    return df"
   ]
  },
  {
   "cell_type": "code",
   "execution_count": 7,
   "id": "08b21202",
   "metadata": {},
   "outputs": [],
   "source": [
    "# 키워드 지정\n",
    "keywords = ['acetaminophen', 'clarithromycin', 'diclofenac', 'diphenhydramine',\n",
    "            'florfenicol', 'ibuprofen', 'Mefenamic acid', 'roxithromycin',\n",
    "            'benzalkonium chloride']\n",
    "\n",
    "# 함수 호출\n",
    "df = mdrug_data(df, keywords)"
   ]
  },
  {
   "cell_type": "code",
   "execution_count": 8,
   "id": "89c71af0",
   "metadata": {},
   "outputs": [
    {
     "data": {
      "text/html": [
       "<div>\n",
       "<style scoped>\n",
       "    .dataframe tbody tr th:only-of-type {\n",
       "        vertical-align: middle;\n",
       "    }\n",
       "\n",
       "    .dataframe tbody tr th {\n",
       "        vertical-align: top;\n",
       "    }\n",
       "\n",
       "    .dataframe thead th {\n",
       "        text-align: right;\n",
       "    }\n",
       "</style>\n",
       "<table border=\"1\" class=\"dataframe\">\n",
       "  <thead>\n",
       "    <tr style=\"text-align: right;\">\n",
       "      <th></th>\n",
       "      <th>일반명코드</th>\n",
       "      <th>제형구분코드</th>\n",
       "      <th>제형</th>\n",
       "      <th>일반명</th>\n",
       "      <th>분류번호</th>\n",
       "      <th>투여</th>\n",
       "      <th>함량</th>\n",
       "      <th>단위</th>\n",
       "    </tr>\n",
       "  </thead>\n",
       "  <tbody>\n",
       "    <tr>\n",
       "      <th>31</th>\n",
       "      <td>101301AEL</td>\n",
       "      <td>EL</td>\n",
       "      <td>엘릭서제</td>\n",
       "      <td>acetaminophen</td>\n",
       "      <td>114</td>\n",
       "      <td>내복</td>\n",
       "      <td>24</td>\n",
       "      <td>mg</td>\n",
       "    </tr>\n",
       "    <tr>\n",
       "      <th>32</th>\n",
       "      <td>101302CLQ</td>\n",
       "      <td>LQ</td>\n",
       "      <td>액제</td>\n",
       "      <td>acetaminophen</td>\n",
       "      <td>114</td>\n",
       "      <td>외용</td>\n",
       "      <td>125</td>\n",
       "      <td>mg</td>\n",
       "    </tr>\n",
       "    <tr>\n",
       "      <th>33</th>\n",
       "      <td>101302CSP</td>\n",
       "      <td>SP</td>\n",
       "      <td>좌제</td>\n",
       "      <td>acetaminophen</td>\n",
       "      <td>114</td>\n",
       "      <td>외용</td>\n",
       "      <td>0.125</td>\n",
       "      <td>g</td>\n",
       "    </tr>\n",
       "    <tr>\n",
       "      <th>34</th>\n",
       "      <td>101303ACH</td>\n",
       "      <td>CH</td>\n",
       "      <td>경질캡슐제</td>\n",
       "      <td>acetaminophen</td>\n",
       "      <td>114</td>\n",
       "      <td>내복</td>\n",
       "      <td>300</td>\n",
       "      <td>mg</td>\n",
       "    </tr>\n",
       "    <tr>\n",
       "      <th>35</th>\n",
       "      <td>101303ATB</td>\n",
       "      <td>TB</td>\n",
       "      <td>정제,저작정</td>\n",
       "      <td>acetaminophen</td>\n",
       "      <td>114</td>\n",
       "      <td>내복</td>\n",
       "      <td>0.3</td>\n",
       "      <td>g</td>\n",
       "    </tr>\n",
       "  </tbody>\n",
       "</table>\n",
       "</div>"
      ],
      "text/plain": [
       "        일반명코드 제형구분코드       제형            일반명  분류번호   투여     함량  단위\n",
       "31  101301AEL     EL    엘릭서제   acetaminophen   114  내복      24  mg\n",
       "32  101302CLQ     LQ      액제   acetaminophen   114  외용     125  mg\n",
       "33  101302CSP     SP      좌제   acetaminophen   114  외용   0.125   g\n",
       "34  101303ACH     CH   경질캡슐제   acetaminophen   114  내복     300  mg\n",
       "35  101303ATB     TB  정제,저작정   acetaminophen   114  내복     0.3   g"
      ]
     },
     "execution_count": 8,
     "metadata": {},
     "output_type": "execute_result"
    }
   ],
   "source": [
    "df.head()"
   ]
  },
  {
   "cell_type": "code",
   "execution_count": 9,
   "id": "7e26d4b5",
   "metadata": {},
   "outputs": [
    {
     "data": {
      "text/plain": [
       "(1355, 8)"
      ]
     },
     "execution_count": 9,
     "metadata": {},
     "output_type": "execute_result"
    }
   ],
   "source": [
    "df.shape"
   ]
  },
  {
   "cell_type": "markdown",
   "id": "8ef7f6d5",
   "metadata": {},
   "source": [
    "#### dexibuprofen 데이터 삭제(유일하게 ibuprofen 약품과 다른 약품으로 판별)"
   ]
  },
  {
   "cell_type": "code",
   "execution_count": 10,
   "id": "49531e04",
   "metadata": {},
   "outputs": [
    {
     "name": "stdout",
     "output_type": "stream",
     "text": [
      "dexibuprofen 개수: 16\n"
     ]
    }
   ],
   "source": [
    "# 'dexibuprofen'이 포함된 데이터 수 확인\n",
    "count = df['일반명'].str.contains('dexibuprofen').sum()\n",
    "print(\"dexibuprofen 개수:\", count)"
   ]
  },
  {
   "cell_type": "code",
   "execution_count": 11,
   "id": "2d18e24c",
   "metadata": {},
   "outputs": [],
   "source": [
    "# 'dexibuprofen'이 포함된 데이터 제거\n",
    "df = df[~df['일반명'].str.contains('dexibuprofen')]"
   ]
  },
  {
   "cell_type": "code",
   "execution_count": 12,
   "id": "08c668fb",
   "metadata": {},
   "outputs": [],
   "source": [
    "# '일반명코드'와 '일반명'을 제외하고 전부 삭제\n",
    "df_drop = ['제형구분코드','제형','분류번호','투여','함량','단위']\n",
    "df = df.drop(columns=df_drop)"
   ]
  },
  {
   "cell_type": "code",
   "execution_count": 13,
   "id": "6a2847c1",
   "metadata": {},
   "outputs": [],
   "source": [
    "# '일반명' 코드 3글자만 출력/소문자로 변환\n",
    "df['일반명'] = df['일반명'].apply(lambda x: x[:3].lower())"
   ]
  },
  {
   "cell_type": "code",
   "execution_count": 14,
   "id": "5d47552a",
   "metadata": {},
   "outputs": [],
   "source": [
    "# '일반명' 열 정렬\n",
    "df= df.sort_values('일반명')"
   ]
  },
  {
   "cell_type": "code",
   "execution_count": 15,
   "id": "ed20f3e6",
   "metadata": {},
   "outputs": [],
   "source": [
    "# 인덱스 재설정\n",
    "df.reset_index(drop=True, inplace=True)"
   ]
  },
  {
   "cell_type": "code",
   "execution_count": 16,
   "id": "e3182e5a",
   "metadata": {},
   "outputs": [
    {
     "data": {
      "text/plain": [
       "(1339, 2)"
      ]
     },
     "execution_count": 16,
     "metadata": {},
     "output_type": "execute_result"
    }
   ],
   "source": [
    "df.shape"
   ]
  },
  {
   "cell_type": "code",
   "execution_count": 17,
   "id": "0c23fcfb",
   "metadata": {},
   "outputs": [
    {
     "data": {
      "text/plain": [
       "array(['ace', 'ben', 'cla', 'dic', 'dip', 'ibu', 'mef', 'rox'],\n",
       "      dtype=object)"
      ]
     },
     "execution_count": 17,
     "metadata": {},
     "output_type": "execute_result"
    }
   ],
   "source": [
    "# '일반명' 데이터 구성 확인\n",
    "df['일반명'].unique()"
   ]
  },
  {
   "cell_type": "code",
   "execution_count": 22,
   "id": "ce08b403",
   "metadata": {},
   "outputs": [
    {
     "data": {
      "image/png": "[encoded data removed]",
      "text/plain": [
       "<Figure size 1000x600 with 1 Axes>"
      ]
     },
     "metadata": {},
     "output_type": "display_data"
    }
   ],
   "source": [
    "# 약품 성분 분포 확인\n",
    "plt.figure(figsize=(10, 6))\n",
    "sns.countplot(data=df, x='일반명')\n",
    "plt.title('Count of Different Categories in \"\"')\n",
    "plt.xlabel('일반명')\n",
    "plt.ylabel('Count')\n",
    "plt.xticks(rotation=45)\n",
    "plt.show()"
   ]
  },
  {
   "cell_type": "code",
   "execution_count": 18,
   "id": "dd28719e",
   "metadata": {},
   "outputs": [
    {
     "data": {
      "text/html": [
       "<div>\n",
       "<style scoped>\n",
       "    .dataframe tbody tr th:only-of-type {\n",
       "        vertical-align: middle;\n",
       "    }\n",
       "\n",
       "    .dataframe tbody tr th {\n",
       "        vertical-align: top;\n",
       "    }\n",
       "\n",
       "    .dataframe thead th {\n",
       "        text-align: right;\n",
       "    }\n",
       "</style>\n",
       "<table border=\"1\" class=\"dataframe\">\n",
       "  <thead>\n",
       "    <tr style=\"text-align: right;\">\n",
       "      <th></th>\n",
       "      <th>일반명코드</th>\n",
       "      <th>일반명</th>\n",
       "    </tr>\n",
       "  </thead>\n",
       "  <tbody>\n",
       "    <tr>\n",
       "      <th>0</th>\n",
       "      <td>101301AEL</td>\n",
       "      <td>ace</td>\n",
       "    </tr>\n",
       "    <tr>\n",
       "      <th>1</th>\n",
       "      <td>D13800ACS</td>\n",
       "      <td>ace</td>\n",
       "    </tr>\n",
       "    <tr>\n",
       "      <th>2</th>\n",
       "      <td>D13700ACS</td>\n",
       "      <td>ace</td>\n",
       "    </tr>\n",
       "    <tr>\n",
       "      <th>3</th>\n",
       "      <td>D13700ACS</td>\n",
       "      <td>ace</td>\n",
       "    </tr>\n",
       "    <tr>\n",
       "      <th>4</th>\n",
       "      <td>D13600ACS</td>\n",
       "      <td>ace</td>\n",
       "    </tr>\n",
       "    <tr>\n",
       "      <th>5</th>\n",
       "      <td>D13600ACS</td>\n",
       "      <td>ace</td>\n",
       "    </tr>\n",
       "    <tr>\n",
       "      <th>6</th>\n",
       "      <td>D13500ACS</td>\n",
       "      <td>ace</td>\n",
       "    </tr>\n",
       "    <tr>\n",
       "      <th>7</th>\n",
       "      <td>D13800ACS</td>\n",
       "      <td>ace</td>\n",
       "    </tr>\n",
       "    <tr>\n",
       "      <th>8</th>\n",
       "      <td>D12600ATB</td>\n",
       "      <td>ace</td>\n",
       "    </tr>\n",
       "    <tr>\n",
       "      <th>9</th>\n",
       "      <td>D12000ACH</td>\n",
       "      <td>ace</td>\n",
       "    </tr>\n",
       "    <tr>\n",
       "      <th>10</th>\n",
       "      <td>D11900ACS</td>\n",
       "      <td>ace</td>\n",
       "    </tr>\n",
       "    <tr>\n",
       "      <th>11</th>\n",
       "      <td>D11800ACS</td>\n",
       "      <td>ace</td>\n",
       "    </tr>\n",
       "    <tr>\n",
       "      <th>12</th>\n",
       "      <td>D11200ATB</td>\n",
       "      <td>ace</td>\n",
       "    </tr>\n",
       "    <tr>\n",
       "      <th>13</th>\n",
       "      <td>D10900ACS</td>\n",
       "      <td>ace</td>\n",
       "    </tr>\n",
       "    <tr>\n",
       "      <th>14</th>\n",
       "      <td>D10900ACS</td>\n",
       "      <td>ace</td>\n",
       "    </tr>\n",
       "    <tr>\n",
       "      <th>15</th>\n",
       "      <td>D12500ATB</td>\n",
       "      <td>ace</td>\n",
       "    </tr>\n",
       "    <tr>\n",
       "      <th>16</th>\n",
       "      <td>D13900ACH</td>\n",
       "      <td>ace</td>\n",
       "    </tr>\n",
       "    <tr>\n",
       "      <th>17</th>\n",
       "      <td>D14000ACH</td>\n",
       "      <td>ace</td>\n",
       "    </tr>\n",
       "    <tr>\n",
       "      <th>18</th>\n",
       "      <td>D14400ATB</td>\n",
       "      <td>ace</td>\n",
       "    </tr>\n",
       "    <tr>\n",
       "      <th>19</th>\n",
       "      <td>D17600ACS</td>\n",
       "      <td>ace</td>\n",
       "    </tr>\n",
       "    <tr>\n",
       "      <th>20</th>\n",
       "      <td>D17600ACS</td>\n",
       "      <td>ace</td>\n",
       "    </tr>\n",
       "    <tr>\n",
       "      <th>21</th>\n",
       "      <td>D17500ACS</td>\n",
       "      <td>ace</td>\n",
       "    </tr>\n",
       "    <tr>\n",
       "      <th>22</th>\n",
       "      <td>D17500ACS</td>\n",
       "      <td>ace</td>\n",
       "    </tr>\n",
       "    <tr>\n",
       "      <th>23</th>\n",
       "      <td>D17400ACS</td>\n",
       "      <td>ace</td>\n",
       "    </tr>\n",
       "    <tr>\n",
       "      <th>24</th>\n",
       "      <td>D17400ACS</td>\n",
       "      <td>ace</td>\n",
       "    </tr>\n",
       "    <tr>\n",
       "      <th>25</th>\n",
       "      <td>D17300ACS</td>\n",
       "      <td>ace</td>\n",
       "    </tr>\n",
       "    <tr>\n",
       "      <th>26</th>\n",
       "      <td>D17300ACS</td>\n",
       "      <td>ace</td>\n",
       "    </tr>\n",
       "    <tr>\n",
       "      <th>27</th>\n",
       "      <td>D17200ACS</td>\n",
       "      <td>ace</td>\n",
       "    </tr>\n",
       "    <tr>\n",
       "      <th>28</th>\n",
       "      <td>D17200ACS</td>\n",
       "      <td>ace</td>\n",
       "    </tr>\n",
       "    <tr>\n",
       "      <th>29</th>\n",
       "      <td>D16500ATB</td>\n",
       "      <td>ace</td>\n",
       "    </tr>\n",
       "    <tr>\n",
       "      <th>30</th>\n",
       "      <td>D16000ALQ</td>\n",
       "      <td>ace</td>\n",
       "    </tr>\n",
       "    <tr>\n",
       "      <th>31</th>\n",
       "      <td>D15800ACS</td>\n",
       "      <td>ace</td>\n",
       "    </tr>\n",
       "    <tr>\n",
       "      <th>32</th>\n",
       "      <td>D14800ATB</td>\n",
       "      <td>ace</td>\n",
       "    </tr>\n",
       "    <tr>\n",
       "      <th>33</th>\n",
       "      <td>D14700ATB</td>\n",
       "      <td>ace</td>\n",
       "    </tr>\n",
       "    <tr>\n",
       "      <th>34</th>\n",
       "      <td>D10800ACS</td>\n",
       "      <td>ace</td>\n",
       "    </tr>\n",
       "    <tr>\n",
       "      <th>35</th>\n",
       "      <td>D10500ACH</td>\n",
       "      <td>ace</td>\n",
       "    </tr>\n",
       "    <tr>\n",
       "      <th>36</th>\n",
       "      <td>D10100ACH</td>\n",
       "      <td>ace</td>\n",
       "    </tr>\n",
       "    <tr>\n",
       "      <th>37</th>\n",
       "      <td>D08500ALQ</td>\n",
       "      <td>ace</td>\n",
       "    </tr>\n",
       "    <tr>\n",
       "      <th>38</th>\n",
       "      <td>C98100ACH</td>\n",
       "      <td>ace</td>\n",
       "    </tr>\n",
       "    <tr>\n",
       "      <th>39</th>\n",
       "      <td>C97600ACS</td>\n",
       "      <td>ace</td>\n",
       "    </tr>\n",
       "    <tr>\n",
       "      <th>40</th>\n",
       "      <td>C97300ACS</td>\n",
       "      <td>ace</td>\n",
       "    </tr>\n",
       "    <tr>\n",
       "      <th>41</th>\n",
       "      <td>C96500ACH</td>\n",
       "      <td>ace</td>\n",
       "    </tr>\n",
       "    <tr>\n",
       "      <th>42</th>\n",
       "      <td>C96200ACS</td>\n",
       "      <td>ace</td>\n",
       "    </tr>\n",
       "    <tr>\n",
       "      <th>43</th>\n",
       "      <td>C95900ACH</td>\n",
       "      <td>ace</td>\n",
       "    </tr>\n",
       "    <tr>\n",
       "      <th>44</th>\n",
       "      <td>C95700ACS</td>\n",
       "      <td>ace</td>\n",
       "    </tr>\n",
       "    <tr>\n",
       "      <th>45</th>\n",
       "      <td>C95600ACS</td>\n",
       "      <td>ace</td>\n",
       "    </tr>\n",
       "    <tr>\n",
       "      <th>46</th>\n",
       "      <td>C95500ACS</td>\n",
       "      <td>ace</td>\n",
       "    </tr>\n",
       "    <tr>\n",
       "      <th>47</th>\n",
       "      <td>C94700ACS</td>\n",
       "      <td>ace</td>\n",
       "    </tr>\n",
       "    <tr>\n",
       "      <th>48</th>\n",
       "      <td>C94700ACS</td>\n",
       "      <td>ace</td>\n",
       "    </tr>\n",
       "    <tr>\n",
       "      <th>49</th>\n",
       "      <td>C94200ACS</td>\n",
       "      <td>ace</td>\n",
       "    </tr>\n",
       "  </tbody>\n",
       "</table>\n",
       "</div>"
      ],
      "text/plain": [
       "        일반명코드  일반명\n",
       "0   101301AEL  ace\n",
       "1   D13800ACS  ace\n",
       "2   D13700ACS  ace\n",
       "3   D13700ACS  ace\n",
       "4   D13600ACS  ace\n",
       "5   D13600ACS  ace\n",
       "6   D13500ACS  ace\n",
       "7   D13800ACS  ace\n",
       "8   D12600ATB  ace\n",
       "9   D12000ACH  ace\n",
       "10  D11900ACS  ace\n",
       "11  D11800ACS  ace\n",
       "12  D11200ATB  ace\n",
       "13  D10900ACS  ace\n",
       "14  D10900ACS  ace\n",
       "15  D12500ATB  ace\n",
       "16  D13900ACH  ace\n",
       "17  D14000ACH  ace\n",
       "18  D14400ATB  ace\n",
       "19  D17600ACS  ace\n",
       "20  D17600ACS  ace\n",
       "21  D17500ACS  ace\n",
       "22  D17500ACS  ace\n",
       "23  D17400ACS  ace\n",
       "24  D17400ACS  ace\n",
       "25  D17300ACS  ace\n",
       "26  D17300ACS  ace\n",
       "27  D17200ACS  ace\n",
       "28  D17200ACS  ace\n",
       "29  D16500ATB  ace\n",
       "30  D16000ALQ  ace\n",
       "31  D15800ACS  ace\n",
       "32  D14800ATB  ace\n",
       "33  D14700ATB  ace\n",
       "34  D10800ACS  ace\n",
       "35  D10500ACH  ace\n",
       "36  D10100ACH  ace\n",
       "37  D08500ALQ  ace\n",
       "38  C98100ACH  ace\n",
       "39  C97600ACS  ace\n",
       "40  C97300ACS  ace\n",
       "41  C96500ACH  ace\n",
       "42  C96200ACS  ace\n",
       "43  C95900ACH  ace\n",
       "44  C95700ACS  ace\n",
       "45  C95600ACS  ace\n",
       "46  C95500ACS  ace\n",
       "47  C94700ACS  ace\n",
       "48  C94700ACS  ace\n",
       "49  C94200ACS  ace"
      ]
     },
     "execution_count": 18,
     "metadata": {},
     "output_type": "execute_result"
    }
   ],
   "source": [
    "# 데이터 확인\n",
    "df.head(50)"
   ]
  },
  {
   "cell_type": "markdown",
   "id": "afec00f9",
   "metadata": {},
   "source": [
    "#### 데이터 추출"
   ]
  },
  {
   "cell_type": "code",
   "execution_count": 19,
   "id": "b70f904c",
   "metadata": {},
   "outputs": [],
   "source": [
    "df.to_csv('폐의약품 코드.csv',index=False)"
   ]
  }
 ],
 "metadata": {
  "kernelspec": {
   "display_name": "Python 3 (ipykernel)",
   "language": "python",
   "name": "python3"
  },
  "language_info": {
   "codemirror_mode": {
    "name": "ipython",
    "version": 3
   },
   "file_extension": ".py",
   "mimetype": "text/x-python",
   "name": "python",
   "nbconvert_exporter": "python",
   "pygments_lexer": "ipython3",
   "version": "3.8.16"
  }
 },
 "nbformat": 4,
 "nbformat_minor": 5
}
